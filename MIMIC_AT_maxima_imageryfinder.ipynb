{
 "cells": [
  {
   "cell_type": "markdown",
   "metadata": {},
   "source": [
    "## The dream: \n",
    "### 1. Find maxima of the AT field, find their place and time\n",
    "### 2. Use those to replace the space-time parts of this Worldview URL\n",
    "\n",
    "https://worldview.earthdata.nasa.gov/?p=geographic&l=VIIRS_SNPP_CorrectedReflectance_TrueColor,MODIS_Aqua_CorrectedReflectance_TrueColor(hidden),MODIS_Terra_CorrectedReflectance_TrueColor(hidden),Graticule,AMSR2_Columnar_Water_Vapor_Night(opacity=0.48,palette=rainbow_2,min=45.857742,46.192467,max=49.874477,50.209206,squash),AMSR2_Columnar_Water_Vapor_Day(hidden,opacity=0.3,palette=rainbow_2,min=45.857742,46.192467,max=49.874477,50.209206,squash),Coastlines&t=2016-09-28&z=3&v=72.41145694180963,-11.569758778983859,96.21223819180963,5.199772471016141&ab=on&as=2016-09-28&ae=2016-09-29&av=3&al=true\n",
    "\n",
    "**Suffix: &t=2016-09-28&z=3&v=72.41145694180963,-11.569758778983859,96.21223819180963,5.199772471016141&ab=on&as=2016-09-28&ae=2016-09-29&av=3&al=true**\n",
    "\n",
    "### 3. Use those in an IDV teleport operation too \n",
    "------------"
   ]
  },
  {
   "cell_type": "code",
   "execution_count": 111,
   "metadata": {},
   "outputs": [],
   "source": [
    "import xarray as xr\n",
    "import netCDF4 as nc\n",
    "import numpy as np \n",
    "import datetime"
   ]
  },
  {
   "cell_type": "markdown",
   "metadata": {},
   "source": [
    "## Two years: opendap link from here \n",
    "http://weather.rsmas.miami.edu/repository/entry/show?entryid=synth%3A0ce7321c-8278-47ef-bb56-7db18c21ea7d%3AL01JTUlDX0FUX2RhaWx5LjIwMTUtMjAxNi5uY21s\n",
    "    \n",
    "## One month: opendap link from here\n",
    "http://weather.rsmas.miami.edu/repository/entry/show?entryid=synth%3A0ce7321c-8278-47ef-bb56-7db18c21ea7d%3AL01JTUlDLndpdGhfQVQudjQuMjAxNzAzLm5j\n",
    "\n",
    "---------------"
   ]
  },
  {
   "cell_type": "code",
   "execution_count": 124,
   "metadata": {},
   "outputs": [],
   "source": [
    "# 2 year ncml aggregation: xarray works \n",
    "datasetx = xr.open_dataset('http://weather.rsmas.miami.edu/repository/opendap/synth:0ce7321c-8278-47ef-bb56-7db18c21ea7d:L01JTUlDX0FUX2RhaWx5LjIwMTUtMjAxNi5uY21s/entry.das')"
   ]
  },
  {
   "cell_type": "code",
   "execution_count": 125,
   "metadata": {},
   "outputs": [],
   "source": [
    "# One month: netCDF library works, downloads data \n",
    "dataset = nc.Dataset('http://weather.rsmas.miami.edu/repository/opendap/synth:0ce7321c-8278-47ef-bb56-7db18c21ea7d:L01JTUlDLndpdGhfQVQudjQuMjAxNzAzLm5j/entry.das')"
   ]
  },
  {
   "cell_type": "code",
   "execution_count": 47,
   "metadata": {},
   "outputs": [
    {
     "name": "stdout",
     "output_type": "stream",
     "text": [
      "time=dataset['time'][:].squeeze()\n",
      "lat=dataset['lat'][:].squeeze()\n",
      "lon=dataset['lon'][:].squeeze()\n",
      "TPW_TEND=dataset['TPW_TEND'][:].squeeze()\n"
     ]
    }
   ],
   "source": [
    "# Trick: a loop over keys, building a command. Then, execute that command!\n",
    "for key in dataset.variables.keys(): \n",
    "    print( key +\"=dataset['\"+key+\"'][:].squeeze()\") # to show the command\n",
    "    exec( key +\"=dataset['\"+key+\"'][:].squeeze()\")\n",
    "# dataset.close()"
   ]
  },
  {
   "cell_type": "code",
   "execution_count": 83,
   "metadata": {},
   "outputs": [],
   "source": [
    "# TPW_TEND"
   ]
  },
  {
   "cell_type": "code",
   "execution_count": 88,
   "metadata": {},
   "outputs": [],
   "source": [
    "maxvalue = np.max(TPW_TEND.data.ravel())"
   ]
  },
  {
   "cell_type": "code",
   "execution_count": 50,
   "metadata": {},
   "outputs": [
    {
     "data": {
      "text/plain": [
       "9.969209968386869e+36"
      ]
     },
     "execution_count": 50,
     "metadata": {},
     "output_type": "execute_result"
    }
   ],
   "source": [
    "maxvalue"
   ]
  },
  {
   "cell_type": "markdown",
   "metadata": {},
   "source": [
    "## Oops fix the missing values as nan"
   ]
  },
  {
   "cell_type": "code",
   "execution_count": 51,
   "metadata": {},
   "outputs": [],
   "source": [
    "TPW_TEND[TPW_TEND>=3e+33]=np.nan                  #Replace missing with nans"
   ]
  },
  {
   "cell_type": "code",
   "execution_count": 52,
   "metadata": {},
   "outputs": [
    {
     "data": {
      "text/plain": [
       "11.418616216234744"
      ]
     },
     "execution_count": 52,
     "metadata": {},
     "output_type": "execute_result"
    }
   ],
   "source": [
    "maxvalue = np.nanmax(TPW_TEND.data)\n",
    "maxvalue"
   ]
  },
  {
   "cell_type": "code",
   "execution_count": 98,
   "metadata": {},
   "outputs": [
    {
     "data": {
      "text/plain": [
       "(19, 474, 1293)"
      ]
     },
     "execution_count": 98,
     "metadata": {},
     "output_type": "execute_result"
    }
   ],
   "source": [
    "# Now find the time, lat, lon of that max\n",
    "\n",
    "maxtime = np.nanargmax(TPW_TEND.data)\n",
    "(maxt, maxlat, maxlon) = np.unravel_index(maxtime,np.shape(TPW_TEND))\n",
    "(maxt, maxlat, maxlon)"
   ]
  },
  {
   "cell_type": "code",
   "execution_count": 100,
   "metadata": {},
   "outputs": [
    {
     "data": {
      "text/plain": [
       "11.418616216234744"
      ]
     },
     "execution_count": 100,
     "metadata": {},
     "output_type": "execute_result"
    }
   ],
   "source": [
    "# Yep it works \n",
    "TPW_TEND[(maxt, maxlat, maxlon)]"
   ]
  },
  {
   "cell_type": "code",
   "execution_count": 113,
   "metadata": {},
   "outputs": [
    {
     "data": {
      "text/plain": [
       "(datetime.datetime(2017, 3, 20, 12, 0), '2017-03-20', '58.5', '143.25')"
      ]
     },
     "execution_count": 113,
     "metadata": {},
     "output_type": "execute_result"
    }
   ],
   "source": [
    "eventdate = nc.num2date(dataset['time'][maxt],units=dataset['time'].units)\n",
    "eventdatestr = eventdate.strftime('%Y-%m-%d')\n",
    "eventlatstr = str(dataset['lat'][maxlat])\n",
    "eventlonstr = str(dataset['lon'][maxlon])\n",
    "(eventdate, eventdatestr, eventlatstr, eventlonstr)"
   ]
  },
  {
   "cell_type": "markdown",
   "metadata": {},
   "source": [
    "## Recall our answer-shaped container:  build it\n",
    "### a 15 deg x 20 degree box centered on our point\n",
    "**&t=2016-09-28&z=3&v=72.4,-11.5,96.2,5.2&ab=on&as=2016-09-28&ae=2016-09-29&av=3&al=true**"
   ]
  },
  {
   "cell_type": "code",
   "execution_count": 115,
   "metadata": {},
   "outputs": [
    {
     "data": {
      "text/plain": [
       "'2017-03-21'"
      ]
     },
     "execution_count": 115,
     "metadata": {},
     "output_type": "execute_result"
    }
   ],
   "source": [
    "eventlatstrS = str(dataset['lat'][maxlat] - 7.5)\n",
    "eventlatstrN = str(dataset['lat'][maxlat] + 7.5 )\n",
    "eventlonstrW = str(dataset['lon'][maxlon] - 10.)\n",
    "eventlonstrE = str(dataset['lon'][maxlon] + 10.)\n",
    "eventdatestr1 = (eventdate + datetime.timedelta(days=1)).strftime('%Y-%m-%d')\n",
    "eventdatestr1 "
   ]
  },
  {
   "cell_type": "code",
   "execution_count": 119,
   "metadata": {},
   "outputs": [
    {
     "data": {
      "text/plain": [
       "'&t=2017-03-20&z=3&v=133.25,51.0,153.25,66.0&ab=on&as=2017-03-20&ae=2017-03-21&av=3&al=true'"
      ]
     },
     "execution_count": 119,
     "metadata": {},
     "output_type": "execute_result"
    }
   ],
   "source": [
    "suffix = '&t=' + eventdatestr + '&z=3&v=' + \\\n",
    "        eventlonstrW + ',' + eventlatstrS + ',' + eventlonstrE + ',' + eventlatstrN + \\\n",
    "        '&ab=on&as=' + eventdatestr + '&ae=' + eventdatestr1 + '&av=3&al=true'\n",
    "    \n",
    "suffix"
   ]
  },
  {
   "cell_type": "code",
   "execution_count": 120,
   "metadata": {},
   "outputs": [
    {
     "data": {
      "text/plain": [
       "'https://worldview.earthdata.nasa.gov/?p=geographic&l=VIIRS_SNPP_CorrectedReflectance_TrueColor,MODIS_Aqua_CorrectedReflectance_TrueColor(hidden),MODIS_Terra_CorrectedReflectance_TrueColor(hidden),Graticule,AMSR2_Columnar_Water_Vapor_Night(opacity=0.48,palette=rainbow_2,min=45.857742,46.192467,max=49.874477,50.209206,squash),AMSR2_Columnar_Water_Vapor_Day(hidden,opacity=0.3,palette=rainbow_2,min=45.857742,46.192467,max=49.874477,50.209206,squash),Coastlines&t=2017-03-20&z=3&v=133.25,51.0,153.25,66.0&ab=on&as=2017-03-20&ae=2017-03-21&av=3&al=true'"
      ]
     },
     "execution_count": 120,
     "metadata": {},
     "output_type": "execute_result"
    }
   ],
   "source": [
    "URL = 'https://worldview.earthdata.nasa.gov/?p=geographic&l=VIIRS_SNPP_CorrectedReflectance_TrueColor,MODIS_Aqua_CorrectedReflectance_TrueColor(hidden),MODIS_Terra_CorrectedReflectance_TrueColor(hidden),Graticule,AMSR2_Columnar_Water_Vapor_Night(opacity=0.48,palette=rainbow_2,min=45.857742,46.192467,max=49.874477,50.209206,squash),AMSR2_Columnar_Water_Vapor_Day(hidden,opacity=0.3,palette=rainbow_2,min=45.857742,46.192467,max=49.874477,50.209206,squash),Coastlines'\\\n",
    "    + suffix\n",
    "    \n",
    "URL"
   ]
  },
  {
   "cell_type": "code",
   "execution_count": null,
   "metadata": {},
   "outputs": [],
   "source": []
  }
 ],
 "metadata": {
  "kernelspec": {
   "display_name": "Python 3",
   "language": "python",
   "name": "python3"
  },
  "language_info": {
   "codemirror_mode": {
    "name": "ipython",
    "version": 3
   },
   "file_extension": ".py",
   "mimetype": "text/x-python",
   "name": "python",
   "nbconvert_exporter": "python",
   "pygments_lexer": "ipython3",
   "version": "3.6.4"
  }
 },
 "nbformat": 4,
 "nbformat_minor": 2
}
