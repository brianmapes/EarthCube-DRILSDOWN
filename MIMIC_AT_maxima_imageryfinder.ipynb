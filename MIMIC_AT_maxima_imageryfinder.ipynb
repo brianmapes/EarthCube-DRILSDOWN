{
 "cells": [
  {
   "cell_type": "markdown",
   "metadata": {},
   "source": [
    "## The dream: \n",
    "### 1. Find maxima of the AT field, find their place and time\n",
    "### 2. Use those to replace the space-time parts of this Worldview URL\n",
    "\n",
    "https://worldview.earthdata.nasa.gov/?p=geographic&l=VIIRS_SNPP_CorrectedReflectance_TrueColor,MODIS_Aqua_CorrectedReflectance_TrueColor(hidden),MODIS_Terra_CorrectedReflectance_TrueColor(hidden),Graticule,AMSR2_Columnar_Water_Vapor_Night(opacity=0.48,palette=rainbow_2,min=45.857742,46.192467,max=49.874477,50.209206,squash),AMSR2_Columnar_Water_Vapor_Day(hidden,opacity=0.3,palette=rainbow_2,min=45.857742,46.192467,max=49.874477,50.209206,squash),Coastlines&t=2016-09-28&z=3&v=72.41145694180963,-11.569758778983859,96.21223819180963,5.199772471016141&ab=on&as=2016-09-28&ae=2016-09-29&av=3&al=true\n",
    "\n",
    "------------"
   ]
  },
  {
   "cell_type": "code",
   "execution_count": 16,
   "metadata": {},
   "outputs": [],
   "source": [
    "import xarray as xr\n",
    "import netCDF4 as nc\n",
    "import numpy as np "
   ]
  },
  {
   "cell_type": "markdown",
   "metadata": {},
   "source": [
    "## Two years: opendap link from here \n",
    "http://weather.rsmas.miami.edu/repository/entry/show?entryid=synth%3A0ce7321c-8278-47ef-bb56-7db18c21ea7d%3AL01JTUlDX0FUX2RhaWx5LjIwMTUtMjAxNi5uY21s\n",
    "    \n",
    "## One month: opendap link from here\n",
    "http://weather.rsmas.miami.edu/repository/entry/show?entryid=synth%3A0ce7321c-8278-47ef-bb56-7db18c21ea7d%3AL01JTUlDLndpdGhfQVQudjQuMjAxNzAzLm5j"
   ]
  },
  {
   "cell_type": "code",
   "execution_count": 11,
   "metadata": {},
   "outputs": [],
   "source": [
    "# One month: it fails\n",
    "# dataset = xr.Dataset('http://weather.rsmas.miami.edu/repository/opendap/synth:0ce7321c-8278-47ef-bb56-7db18c21ea7d:L01JTUlDLndpdGhfQVQudjQuMjAxNzAzLm5j/entry.das')"
   ]
  },
  {
   "cell_type": "code",
   "execution_count": 10,
   "metadata": {},
   "outputs": [],
   "source": [
    "# One month: works OK here\n",
    "dataset = nc.Dataset('http://weather.rsmas.miami.edu/repository/opendap/synth:0ce7321c-8278-47ef-bb56-7db18c21ea7d:L01JTUlDLndpdGhfQVQudjQuMjAxNzAzLm5j/entry.das')"
   ]
  },
  {
   "cell_type": "code",
   "execution_count": 14,
   "metadata": {},
   "outputs": [
    {
     "name": "stdout",
     "output_type": "stream",
     "text": [
      "time=dataset['time'][:].squeeze()\n",
      "lat=dataset['lat'][:].squeeze()\n",
      "lon=dataset['lon'][:].squeeze()\n",
      "TPW_TEND=dataset['TPW_TEND'][:].squeeze()\n"
     ]
    }
   ],
   "source": [
    "# Trick: a loop over keys, building a command. Then, execute that command!\n",
    "for key in dataset.variables.keys(): \n",
    "    print( key +\"=dataset['\"+key+\"'][:].squeeze()\") # to show the command\n",
    "    exec( key +\"=dataset['\"+key+\"'][:].squeeze()\")\n",
    "dataset.close()"
   ]
  },
  {
   "cell_type": "code",
   "execution_count": 20,
   "metadata": {},
   "outputs": [
    {
     "data": {
      "text/plain": [
       "masked_array(\n",
       "  data=[[[-0.000773033538968957, -0.029797082204832185,\n",
       "          -0.011838262287600612, ..., -0.025539434666703102,\n",
       "          0.010631308242544966, 0.09216994114892486],\n",
       "         [0.029344972277382326, 0.0222938582916093,\n",
       "          -0.014201727116284913, ..., -0.0835653552337314,\n",
       "          0.0461097945195296, -0.006074200657849614],\n",
       "         [0.08687046325544723, 0.034509893399481927,\n",
       "          -0.021575522710373128, ..., 0.0011713736954842417,\n",
       "          -0.01979575006753123, 0.010463246405795748],\n",
       "         ...,\n",
       "         [0.02435251454948261, 0.027087157379120257,\n",
       "          -0.02160205548796408, ..., 0.1052126872601505,\n",
       "          0.05605435963372316, 0.02346919848199952],\n",
       "         [-0.01664213351785469, 0.009015204046167695,\n",
       "          0.005869494240667063, ..., 0.047630960914379794,\n",
       "          0.06189077798674845, -0.02588815891655562],\n",
       "         [-0.032372007329378845, 0.008055148726760733,\n",
       "          -0.010829562064598303, ..., 0.056019784704743836,\n",
       "          0.025587159272859455, 0.005678359249690236]],\n",
       "\n",
       "        [[0.07435903441431943, 0.05614074839488224,\n",
       "          -0.05403640099345991, ..., 0.0167844188856657,\n",
       "          0.18065765193213115, 0.1771743907098191],\n",
       "         [0.0668368316394842, -0.06048124362484778,\n",
       "          -0.05934579071668872, ..., 0.09443018969041447,\n",
       "          0.06054333886609033, 0.01880041146002996],\n",
       "         [-0.0382579884363361, 0.1644009502647235, 0.09119775679835086,\n",
       "          ..., 0.03509634947567358, 0.0560824656632741,\n",
       "          0.09052053914491859],\n",
       "         ...,\n",
       "         [-0.09902064687463559, -0.04637912821109076,\n",
       "          -0.1281173365263666, ..., 0.02397725456825521,\n",
       "          -0.02261527922217324, -0.12217592901096654],\n",
       "         [-0.10105667163127503, -0.03224708415780692,\n",
       "          -0.10836151550902286, ..., -0.10792969541396785,\n",
       "          -0.05459900269154067, -0.14355540284908141],\n",
       "         [-0.06862526993983256, -0.10801790901961977,\n",
       "          -0.11211911636702243, ..., -0.03798977207370255,\n",
       "          -0.07522705765768262, -0.061766593649159]],\n",
       "\n",
       "        [[-0.5859290996339193, -0.5734141883382525, -0.4765302993316461,\n",
       "          ..., -0.5191099419047027, -0.5735050065449465,\n",
       "          -0.5029781642796806],\n",
       "         [-0.5388787062205496, -0.5058094772063357, -0.4642365997524044,\n",
       "          ..., -0.5192781313091039, -0.6282598824217915,\n",
       "          -0.5393600906450875],\n",
       "         [-0.42941372183602444, -0.5368318809130349,\n",
       "          -0.5153052782688042, ..., -0.4882762135049721,\n",
       "          -0.448845984813665, -0.4751682633261199],\n",
       "         ...,\n",
       "         [0.046921606061871485, 0.05384164494797987,\n",
       "          0.09346444207791312, ..., 0.04104271241458038,\n",
       "          0.015590136256915126, 0.06756429836800329],\n",
       "         [0.030600507001318323, 0.04488702653119207,\n",
       "          0.09771709705956391, ..., 0.0031913021240636556,\n",
       "          0.004798675482050786, -0.038237449937834456],\n",
       "         [0.0713694446252891, 0.06354358115518535, 0.1161548045852347,\n",
       "          ..., -0.008412559169108878, -0.044269870512222066,\n",
       "          0.05480800993020691]],\n",
       "\n",
       "        ...,\n",
       "\n",
       "        [[--, --, --, ..., --, --, --],\n",
       "         [--, --, --, ..., --, --, --],\n",
       "         [--, --, --, ..., --, --, --],\n",
       "         ...,\n",
       "         [--, --, --, ..., --, --, --],\n",
       "         [--, --, --, ..., --, --, --],\n",
       "         [--, --, --, ..., --, --, --]],\n",
       "\n",
       "        [[--, --, --, ..., --, --, --],\n",
       "         [--, --, --, ..., --, --, --],\n",
       "         [--, --, --, ..., --, --, --],\n",
       "         ...,\n",
       "         [--, --, --, ..., --, --, --],\n",
       "         [--, --, --, ..., --, --, --],\n",
       "         [--, --, --, ..., --, --, --]],\n",
       "\n",
       "        [[--, --, --, ..., --, --, --],\n",
       "         [--, --, --, ..., --, --, --],\n",
       "         [--, --, --, ..., --, --, --],\n",
       "         ...,\n",
       "         [--, --, --, ..., --, --, --],\n",
       "         [--, --, --, ..., --, --, --],\n",
       "         [--, --, --, ..., --, --, --]]],\n",
       "  mask=[[[False, False, False, ..., False, False, False],\n",
       "         [False, False, False, ..., False, False, False],\n",
       "         [False, False, False, ..., False, False, False],\n",
       "         ...,\n",
       "         [False, False, False, ..., False, False, False],\n",
       "         [False, False, False, ..., False, False, False],\n",
       "         [False, False, False, ..., False, False, False]],\n",
       "\n",
       "        [[False, False, False, ..., False, False, False],\n",
       "         [False, False, False, ..., False, False, False],\n",
       "         [False, False, False, ..., False, False, False],\n",
       "         ...,\n",
       "         [False, False, False, ..., False, False, False],\n",
       "         [False, False, False, ..., False, False, False],\n",
       "         [False, False, False, ..., False, False, False]],\n",
       "\n",
       "        [[False, False, False, ..., False, False, False],\n",
       "         [False, False, False, ..., False, False, False],\n",
       "         [False, False, False, ..., False, False, False],\n",
       "         ...,\n",
       "         [False, False, False, ..., False, False, False],\n",
       "         [False, False, False, ..., False, False, False],\n",
       "         [False, False, False, ..., False, False, False]],\n",
       "\n",
       "        ...,\n",
       "\n",
       "        [[ True,  True,  True, ...,  True,  True,  True],\n",
       "         [ True,  True,  True, ...,  True,  True,  True],\n",
       "         [ True,  True,  True, ...,  True,  True,  True],\n",
       "         ...,\n",
       "         [ True,  True,  True, ...,  True,  True,  True],\n",
       "         [ True,  True,  True, ...,  True,  True,  True],\n",
       "         [ True,  True,  True, ...,  True,  True,  True]],\n",
       "\n",
       "        [[ True,  True,  True, ...,  True,  True,  True],\n",
       "         [ True,  True,  True, ...,  True,  True,  True],\n",
       "         [ True,  True,  True, ...,  True,  True,  True],\n",
       "         ...,\n",
       "         [ True,  True,  True, ...,  True,  True,  True],\n",
       "         [ True,  True,  True, ...,  True,  True,  True],\n",
       "         [ True,  True,  True, ...,  True,  True,  True]],\n",
       "\n",
       "        [[ True,  True,  True, ...,  True,  True,  True],\n",
       "         [ True,  True,  True, ...,  True,  True,  True],\n",
       "         [ True,  True,  True, ...,  True,  True,  True],\n",
       "         ...,\n",
       "         [ True,  True,  True, ...,  True,  True,  True],\n",
       "         [ True,  True,  True, ...,  True,  True,  True],\n",
       "         [ True,  True,  True, ...,  True,  True,  True]]],\n",
       "  fill_value=9.969209968386869e+36)"
      ]
     },
     "execution_count": 20,
     "metadata": {},
     "output_type": "execute_result"
    }
   ],
   "source": [
    "TPW_TEND"
   ]
  },
  {
   "cell_type": "code",
   "execution_count": 23,
   "metadata": {},
   "outputs": [],
   "source": [
    "maxvalue = np.max(TPW_TEND.data.ravel())\n",
    "maxtime = np.argmax(TPW_TEND.data.ravel())"
   ]
  },
  {
   "cell_type": "code",
   "execution_count": 22,
   "metadata": {},
   "outputs": [
    {
     "data": {
      "text/plain": [
       "9.969209968386869e+36"
      ]
     },
     "execution_count": 22,
     "metadata": {},
     "output_type": "execute_result"
    }
   ],
   "source": [
    "maxvalue"
   ]
  },
  {
   "cell_type": "code",
   "execution_count": 25,
   "metadata": {},
   "outputs": [
    {
     "data": {
      "text/plain": [
       "137260"
      ]
     },
     "execution_count": 25,
     "metadata": {},
     "output_type": "execute_result"
    }
   ],
   "source": [
    "# No it is not time, just an index. \n",
    "# Need to use it as index of a raveled, broadcasted time array to find time. \n",
    "# Need to use it as index of a raveled, broadcasted lat array to find lat. \n",
    "# Need to use it as index of a raveled, broadcasted lon array to find lon. \n",
    "\n",
    "maxtime"
   ]
  },
  {
   "cell_type": "code",
   "execution_count": null,
   "metadata": {},
   "outputs": [],
   "source": []
  }
 ],
 "metadata": {
  "kernelspec": {
   "display_name": "Python 3",
   "language": "python",
   "name": "python3"
  },
  "language_info": {
   "codemirror_mode": {
    "name": "ipython",
    "version": 3
   },
   "file_extension": ".py",
   "mimetype": "text/x-python",
   "name": "python",
   "nbconvert_exporter": "python",
   "pygments_lexer": "ipython3",
   "version": "3.6.4"
  }
 },
 "nbformat": 4,
 "nbformat_minor": 2
}
