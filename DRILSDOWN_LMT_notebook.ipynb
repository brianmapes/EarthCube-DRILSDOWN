{
 "cells": [
  {
   "cell_type": "markdown",
   "metadata": {},
   "source": [
    "## Example iPython notebook of a case study\n",
    "### Lackmann, Mapes, Tyle textbook case LMT_1.2"
   ]
  },
  {
   "cell_type": "code",
   "execution_count": 2,
   "metadata": {
    "collapsed": false
   },
   "outputs": [],
   "source": [
    "%reload_ext drilsdown"
   ]
  },
  {
   "cell_type": "code",
   "execution_count": null,
   "metadata": {
    "collapsed": false
   },
   "outputs": [],
   "source": [
    "%loadBundle('http://weather.rsmas.miami.edu/repository/entry/get?entryid=8e7f980e-5c90-4918-9cd4-26c0050c5e38')"
   ]
  },
  {
   "cell_type": "code",
   "execution_count": null,
   "metadata": {
    "collapsed": true
   },
   "outputs": [],
   "source": [
    "# Both of the above failed! I had to load the bundle manually by operating the IDV GUI."
   ]
  },
  {
   "cell_type": "code",
   "execution_count": null,
   "metadata": {
    "collapsed": true
   },
   "outputs": [],
   "source": [
    "# Turned on jet stream isosurface \n",
    "%makeImage"
   ]
  },
  {
   "cell_type": "code",
   "execution_count": null,
   "metadata": {
    "collapsed": true
   },
   "outputs": [],
   "source": [
    "#View from west with isentropes\n",
    "%makeImage\n"
   ]
  },
  {
   "cell_type": "code",
   "execution_count": null,
   "metadata": {
    "collapsed": true
   },
   "outputs": [],
   "source": [
    "# Tried File-->Download As \n",
    "# Presentation .html\n",
    "# no images come along"
   ]
  },
  {
   "cell_type": "code",
   "execution_count": null,
   "metadata": {
    "collapsed": false
   },
   "outputs": [],
   "source": [
    "%publishNotebook"
   ]
  },
  {
   "cell_type": "code",
   "execution_count": null,
   "metadata": {
    "collapsed": true
   },
   "outputs": [],
   "source": []
  },
  {
   "cell_type": "code",
   "execution_count": null,
   "metadata": {
    "collapsed": true
   },
   "outputs": [],
   "source": []
  },
  {
   "cell_type": "code",
   "execution_count": null,
   "metadata": {
    "collapsed": true
   },
   "outputs": [],
   "source": []
  },
  {
   "cell_type": "code",
   "execution_count": null,
   "metadata": {
    "collapsed": true
   },
   "outputs": [],
   "source": [
    "# We don't need these since there is no Python interaction here, only capturing IDV images \n",
    "from drilsdown import Idv\n",
    "from drilsdown import Ramadda"
   ]
  },
  {
   "cell_type": "code",
   "execution_count": null,
   "metadata": {
    "collapsed": false,
    "deletable": true,
    "editable": true
   },
   "outputs": [],
   "source": [
    "#Ramadda(\"http://weather.rsmas.miami.edu/repository/entry/show?entryid=4928328d-4148-4a35-8c36-f8c77f2680bc\").doList(label=\"LMT Manual Materials\",display=True)"
   ]
  },
  {
   "cell_type": "code",
   "execution_count": null,
   "metadata": {
    "collapsed": true
   },
   "outputs": [],
   "source": []
  }
 ],
 "metadata": {
  "anaconda-cloud": {},
  "kernelspec": {
   "display_name": "Python [default]",
   "language": "python",
   "name": "python3"
  },
  "language_info": {
   "codemirror_mode": {
    "name": "ipython",
    "version": 3
   },
   "file_extension": ".py",
   "mimetype": "text/x-python",
   "name": "python",
   "nbconvert_exporter": "python",
   "pygments_lexer": "ipython3",
   "version": "3.5.2"
  },
  "widgets": {
   "state": {
    "15eccd76f3434859b4d97bd2bc0143e5": {
     "views": [
      {
       "cell_index": 1
      }
     ]
    },
    "348efd0c035640b6aa3a4312ab272962": {
     "views": [
      {
       "cell_index": 1
      }
     ]
    },
    "5a388b23be1d46aeb93a273150adc70c": {
     "views": [
      {
       "cell_index": 1
      }
     ]
    },
    "71e92629cfeb47c2a4008dc30916dfa2": {
     "views": [
      {
       "cell_index": 1
      }
     ]
    },
    "97dc30b3a153413ca1aca5fff53d0826": {
     "views": [
      {
       "cell_index": 1
      }
     ]
    },
    "f3ad950f9d0548a587c6064112fe4aff": {
     "views": [
      {
       "cell_index": 4
      }
     ]
    }
   },
   "version": "1.2.0"
  }
 },
 "nbformat": 4,
 "nbformat_minor": 2
}
